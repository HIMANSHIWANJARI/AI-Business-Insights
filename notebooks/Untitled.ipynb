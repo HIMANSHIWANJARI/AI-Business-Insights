{
 "cells": [
  {
   "cell_type": "code",
   "execution_count": 16,
   "id": "0112db2c-a4a7-4a2b-aeb3-7180037fda43",
   "metadata": {},
   "outputs": [],
   "source": [
    "import pandas as pd\n",
    "import torch\n",
    "from sklearn.preprocessing import LabelEncoder\n",
    "from torch.utils.data import Dataset, DataLoader\n",
    "\n",
    "# Load your data\n",
    "df = pd.read_csv(\"../data/sample_sales.csv\")\n",
    "df['customer_id'] = df['order_id']  # Use order_id as customer_id (or use actual if available)\n",
    "\n",
    "# Map customers and products to unique integer IDs\n",
    "user_encoder = LabelEncoder()\n",
    "item_encoder = LabelEncoder()\n",
    "\n",
    "df['user'] = user_encoder.fit_transform(df['customer_id'])\n",
    "df['item'] = item_encoder.fit_transform(df['product_name'])\n",
    "\n",
    "# Add a dummy 'interaction' column (implicit feedback)\n",
    "df['interaction'] = 1\n"
   ]
  },
  {
   "cell_type": "code",
   "execution_count": 17,
   "id": "788e654c-d2f4-4561-ac1a-6ac10afdc357",
   "metadata": {},
   "outputs": [],
   "source": [
    "class InteractionDataset(Dataset):\n",
    "    def __init__(self, dataframe):\n",
    "        self.users = torch.tensor(dataframe['user'].values, dtype=torch.long)\n",
    "        self.items = torch.tensor(dataframe['item'].values, dtype=torch.long)\n",
    "        self.labels = torch.tensor(dataframe['interaction'].values, dtype=torch.float32)\n",
    "\n",
    "    def __len__(self):\n",
    "        return len(self.users)\n",
    "\n",
    "    def __getitem__(self, idx):\n",
    "        return self.users[idx], self.items[idx], self.labels[idx]\n",
    "\n",
    "dataset = InteractionDataset(df)\n",
    "loader = DataLoader(dataset, batch_size=64, shuffle=True)\n"
   ]
  },
  {
   "cell_type": "code",
   "execution_count": 18,
   "id": "7c0113c4-21be-4815-8120-c1099a56ef04",
   "metadata": {},
   "outputs": [],
   "source": [
    "import torch.nn as nn\n",
    "\n",
    "class MFModel(nn.Module):\n",
    "    def __init__(self, num_users, num_items, embedding_dim=20):\n",
    "        super(MFModel, self).__init__()\n",
    "        self.user_embed = nn.Embedding(num_users, embedding_dim)\n",
    "        self.item_embed = nn.Embedding(num_items, embedding_dim)\n",
    "        \n",
    "    def forward(self, user, item):\n",
    "        user_vec = self.user_embed(user)\n",
    "        item_vec = self.item_embed(item)\n",
    "        return (user_vec * item_vec).sum(1)  # dot product\n"
   ]
  },
  {
   "cell_type": "code",
   "execution_count": 19,
   "id": "77141614-7514-4067-afb3-e410d23589ed",
   "metadata": {},
   "outputs": [
    {
     "name": "stdout",
     "output_type": "stream",
     "text": [
      "Epoch 1: Loss = 1379.9381\n",
      "Epoch 2: Loss = 626.8506\n",
      "Epoch 3: Loss = 322.5917\n",
      "Epoch 4: Loss = 185.5694\n",
      "Epoch 5: Loss = 110.9011\n"
     ]
    }
   ],
   "source": [
    "model = MFModel(num_users=df['user'].nunique(), num_items=df['item'].nunique())\n",
    "criterion = nn.MSELoss()\n",
    "optimizer = torch.optim.Adam(model.parameters(), lr=0.01)\n",
    "\n",
    "epochs = 5\n",
    "for epoch in range(epochs):\n",
    "    total_loss = 0\n",
    "    for users, items, labels in loader:\n",
    "        preds = model(users, items)\n",
    "        loss = criterion(preds, labels)\n",
    "        optimizer.zero_grad()\n",
    "        loss.backward()\n",
    "        optimizer.step()\n",
    "        total_loss += loss.item()\n",
    "    print(f\"Epoch {epoch+1}: Loss = {total_loss:.4f}\")\n"
   ]
  },
  {
   "cell_type": "code",
   "execution_count": 20,
   "id": "ef6a8974-4bd9-4b19-b9fc-b954604d5f25",
   "metadata": {},
   "outputs": [
    {
     "name": "stdout",
     "output_type": "stream",
     "text": [
      "Recommended for user_id=1001: ['Lentils 1kg' 'Tomatoes 1kg' 'Sandwich' 'Jeans' 'Paracetamol']\n"
     ]
    }
   ],
   "source": [
    "# Recommend top-N products for a user\n",
    "def recommend_products(user_id_raw, top_n=5):\n",
    "    user_id = user_encoder.transform([user_id_raw])[0]\n",
    "    item_ids = torch.arange(df['item'].nunique())\n",
    "    user_ids = torch.tensor([user_id] * len(item_ids))\n",
    "\n",
    "    with torch.no_grad():\n",
    "        scores = model(user_ids, item_ids)\n",
    "\n",
    "    top_items = torch.topk(scores, top_n).indices.numpy()\n",
    "    product_names = item_encoder.inverse_transform(top_items)\n",
    "    return product_names\n",
    "\n",
    "# Example: Recommend for a known user (replace with actual ID from your data)\n",
    "print(\"Recommended for user_id=1001:\", recommend_products(user_id_raw=1001))\n"
   ]
  },
  {
   "cell_type": "code",
   "execution_count": null,
   "id": "4dc108ad-19b7-4b26-812d-9ea12fb6a357",
   "metadata": {},
   "outputs": [],
   "source": []
  }
 ],
 "metadata": {
  "kernelspec": {
   "display_name": "Python 3 (ipykernel)",
   "language": "python",
   "name": "python3"
  },
  "language_info": {
   "codemirror_mode": {
    "name": "ipython",
    "version": 3
   },
   "file_extension": ".py",
   "mimetype": "text/x-python",
   "name": "python",
   "nbconvert_exporter": "python",
   "pygments_lexer": "ipython3",
   "version": "3.10.7"
  }
 },
 "nbformat": 4,
 "nbformat_minor": 5
}
